{
 "cells": [
  {
   "cell_type": "code",
   "execution_count": 1,
   "id": "8d67df69",
   "metadata": {},
   "outputs": [],
   "source": [
    "import requests\n",
    "import pandas as pd"
   ]
  },
  {
   "cell_type": "code",
   "execution_count": 2,
   "id": "17f22c12",
   "metadata": {},
   "outputs": [],
   "source": [
    "# Go to poe ninja and pull divination card prices for the current league"
   ]
  },
  {
   "cell_type": "code",
   "execution_count": 3,
   "id": "81ee6c99",
   "metadata": {},
   "outputs": [
    {
     "name": "stdout",
     "output_type": "stream",
     "text": [
      "<Response [200]>\n"
     ]
    }
   ],
   "source": [
    "poe_ninja_divination_data = requests.get('https://poe.ninja/api/data/itemoverview?league=Sanctum&type=DivinationCard&language=en')\n",
    "print(poe_ninja_divination_data)\n",
    "# poe_ninja = pd.read_json(poe_ninja_divination_data, orient ='index')\n",
    "# print(poe_ninja)"
   ]
  },
  {
   "cell_type": "code",
   "execution_count": null,
   "id": "eddaf909",
   "metadata": {},
   "outputs": [],
   "source": []
  },
  {
   "cell_type": "code",
   "execution_count": null,
   "id": "6f3f0459",
   "metadata": {},
   "outputs": [],
   "source": []
  },
  {
   "cell_type": "code",
   "execution_count": null,
   "id": "bea9cbdc",
   "metadata": {},
   "outputs": [],
   "source": []
  }
 ],
 "metadata": {
  "kernelspec": {
   "display_name": "Python 3 (ipykernel)",
   "language": "python",
   "name": "python3"
  },
  "language_info": {
   "codemirror_mode": {
    "name": "ipython",
    "version": 3
   },
   "file_extension": ".py",
   "mimetype": "text/x-python",
   "name": "python",
   "nbconvert_exporter": "python",
   "pygments_lexer": "ipython3",
   "version": "3.11.1"
  }
 },
 "nbformat": 4,
 "nbformat_minor": 5
}
