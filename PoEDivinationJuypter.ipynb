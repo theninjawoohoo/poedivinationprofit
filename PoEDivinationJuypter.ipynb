{
 "cells": [
  {
   "cell_type": "code",
   "execution_count": 1,
   "id": "8d67df69",
   "metadata": {},
   "outputs": [],
   "source": [
    "import requests\n",
    "import pandas as pd\n",
    "import numpy as np\n",
    "import json"
   ]
  },
  {
   "cell_type": "code",
   "execution_count": 2,
   "id": "17f22c12",
   "metadata": {},
   "outputs": [],
   "source": [
    "# Go to poe ninja and pull divination card prices for the current league"
   ]
  },
  {
   "cell_type": "code",
   "execution_count": 3,
   "id": "81ee6c99",
   "metadata": {},
   "outputs": [
    {
     "name": "stdout",
     "output_type": "stream",
     "text": [
      "                   Stack   Div    Chaos                            Output\n",
      "The Cartographer       1  0.02     4.29         10x Cartographer's Chisel\n",
      "Brother's Stash        1  0.47    119.0                    5x Exalted Orb\n",
      "Society's Remorse      1  0.01     2.83             10x Orb of Alteration\n",
      "The Void               1  0.02      4.0                                  \n",
      "The Shortcut           1  0.04     10.0  Quicksilver Flask of the Cheetah\n",
      "...                  ...   ...      ...                               ...\n",
      "Lingering Remnants    16   0.0      1.0                   Vaal Temple Map\n",
      "Unrequited Love       16  23.0  5808.65                  19x Mirror Shard\n",
      "The Catch             18  0.02     4.97                       Fishing Rod\n",
      "Imperial Legacy       22   0.0     0.33             Six-Link Imperial Bow\n",
      "Rebirth               27  0.02     4.87                    Charan's Sword\n",
      "\n",
      "[422 rows x 4 columns]\n"
     ]
    }
   ],
   "source": [
    "poe_ninja_divination_request= requests.get('https://poe.ninja/api/data/itemoverview?league=Sanctum&type=DivinationCard&language=en').json()\n",
    "divination_data = np.array(poe_ninja_divination_request['lines'])\n",
    "divination_names = []\n",
    "divination_stack_size = []\n",
    "divination_divine_price = []\n",
    "divination_chaos_price = []\n",
    "divination_card_category = []\n",
    "\n",
    "def find_output_with_braces(input):\n",
    "    begin = input.find(\"{\")\n",
    "    end = input.find(\"}\", begin + 1)\n",
    "    return input[begin + 1:end]\n",
    "    \n",
    "\n",
    "for data in divination_data:\n",
    "    divination_names.append(data['name'])\n",
    "    \n",
    "    if 'stackSize' in data:\n",
    "        divination_stack_size.append(data['stackSize'])\n",
    "    else:\n",
    "        divination_stack_size.append(1)\n",
    "    divination_divine_price.append(data['divineValue'])\n",
    "    divination_chaos_price.append(data['chaosValue'])\n",
    "    card_output = data['explicitModifiers'][0]['text']\n",
    "    divination_card_category.append(find_output_with_braces(card_output))\n",
    "\n",
    "congregate_data = [divination_stack_size, divination_divine_price, divination_chaos_price, divination_card_category]\n",
    "df = pd.DataFrame(congregate_data, index=['Stack', 'Div', 'Chaos', 'Output'], columns=divination_names)\n",
    "# df = pd.DataFrame(congregate_data, index=divination_names, columns=['Stack', 'Div', 'Chaos', 'Output'])\n",
    "print(df.transpose().sort_values(by='Stack', ascending=True))"
   ]
  },
  {
   "cell_type": "code",
   "execution_count": 4,
   "id": "eddaf909",
   "metadata": {
    "scrolled": true
   },
   "outputs": [],
   "source": [
    "# Obtain curreny "
   ]
  },
  {
   "cell_type": "code",
   "execution_count": null,
   "id": "6f3f0459",
   "metadata": {},
   "outputs": [],
   "source": []
  },
  {
   "cell_type": "code",
   "execution_count": null,
   "id": "bea9cbdc",
   "metadata": {},
   "outputs": [],
   "source": []
  }
 ],
 "metadata": {
  "kernelspec": {
   "display_name": "Python 3 (ipykernel)",
   "language": "python",
   "name": "python3"
  },
  "language_info": {
   "codemirror_mode": {
    "name": "ipython",
    "version": 3
   },
   "file_extension": ".py",
   "mimetype": "text/x-python",
   "name": "python",
   "nbconvert_exporter": "python",
   "pygments_lexer": "ipython3",
   "version": "3.11.1"
  }
 },
 "nbformat": 4,
 "nbformat_minor": 5
}
